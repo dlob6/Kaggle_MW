{
 "cells": [
  {
   "cell_type": "code",
   "execution_count": 1,
   "metadata": {},
   "outputs": [],
   "source": [
    "import pandas as pd\n",
    "import numpy as np\n",
    "import matplotlib.pyplot as plt\n",
    "from collections import Counter\n",
    "%matplotlib inline"
   ]
  },
  {
   "cell_type": "markdown",
   "metadata": {},
   "source": [
    "# Feature exploration\n",
    "\n",
    "Let's explore features that have a high cardinality and find a way to reduce it. <br>"
   ]
  },
  {
   "cell_type": "code",
   "execution_count": 2,
   "metadata": {},
   "outputs": [
    {
     "name": "stderr",
     "output_type": "stream",
     "text": [
      "/home/dlo/anaconda3/envs/fastai_gpu/lib/python3.7/site-packages/IPython/core/interactiveshell.py:3020: DtypeWarning: Columns (28) have mixed types. Specify dtype option on import or set low_memory=False.\n",
      "  interactivity=interactivity, compiler=compiler, result=result)\n"
     ]
    }
   ],
   "source": [
    "df_tr = pd.read_csv('train.csv')\n",
    "df_tr.fillna(-1,inplace=True)"
   ]
  },
  {
   "cell_type": "code",
   "execution_count": 3,
   "metadata": {},
   "outputs": [
    {
     "data": {
      "text/plain": [
       "Index(['MachineIdentifier', 'ProductName', 'EngineVersion', 'AppVersion',\n",
       "       'AvSigVersion', 'IsBeta', 'RtpStateBitfield', 'IsSxsPassiveMode',\n",
       "       'DefaultBrowsersIdentifier', 'AVProductStatesIdentifier',\n",
       "       'AVProductsInstalled', 'AVProductsEnabled', 'HasTpm',\n",
       "       'CountryIdentifier', 'CityIdentifier', 'OrganizationIdentifier',\n",
       "       'GeoNameIdentifier', 'LocaleEnglishNameIdentifier', 'Platform',\n",
       "       'Processor', 'OsVer', 'OsBuild', 'OsSuite', 'OsPlatformSubRelease',\n",
       "       'OsBuildLab', 'SkuEdition', 'IsProtected', 'AutoSampleOptIn', 'PuaMode',\n",
       "       'SMode', 'IeVerIdentifier', 'SmartScreen', 'Firewall', 'UacLuaenable',\n",
       "       'Census_MDC2FormFactor', 'Census_DeviceFamily',\n",
       "       'Census_OEMNameIdentifier', 'Census_OEMModelIdentifier',\n",
       "       'Census_ProcessorCoreCount', 'Census_ProcessorManufacturerIdentifier',\n",
       "       'Census_ProcessorModelIdentifier', 'Census_ProcessorClass',\n",
       "       'Census_PrimaryDiskTotalCapacity', 'Census_PrimaryDiskTypeName',\n",
       "       'Census_SystemVolumeTotalCapacity', 'Census_HasOpticalDiskDrive',\n",
       "       'Census_TotalPhysicalRAM', 'Census_ChassisTypeName',\n",
       "       'Census_InternalPrimaryDiagonalDisplaySizeInInches',\n",
       "       'Census_InternalPrimaryDisplayResolutionHorizontal',\n",
       "       'Census_InternalPrimaryDisplayResolutionVertical',\n",
       "       'Census_PowerPlatformRoleName', 'Census_InternalBatteryType',\n",
       "       'Census_InternalBatteryNumberOfCharges', 'Census_OSVersion',\n",
       "       'Census_OSArchitecture', 'Census_OSBranch', 'Census_OSBuildNumber',\n",
       "       'Census_OSBuildRevision', 'Census_OSEdition', 'Census_OSSkuName',\n",
       "       'Census_OSInstallTypeName', 'Census_OSInstallLanguageIdentifier',\n",
       "       'Census_OSUILocaleIdentifier', 'Census_OSWUAutoUpdateOptionsName',\n",
       "       'Census_IsPortableOperatingSystem', 'Census_GenuineStateName',\n",
       "       'Census_ActivationChannel', 'Census_IsFlightingInternal',\n",
       "       'Census_IsFlightsDisabled', 'Census_FlightRing',\n",
       "       'Census_ThresholdOptIn', 'Census_FirmwareManufacturerIdentifier',\n",
       "       'Census_FirmwareVersionIdentifier', 'Census_IsSecureBootEnabled',\n",
       "       'Census_IsWIMBootEnabled', 'Census_IsVirtualDevice',\n",
       "       'Census_IsTouchEnabled', 'Census_IsPenCapable',\n",
       "       'Census_IsAlwaysOnAlwaysConnectedCapable', 'Wdft_IsGamer',\n",
       "       'Wdft_RegionIdentifier', 'HasDetections'],\n",
       "      dtype='object')"
      ]
     },
     "execution_count": 3,
     "metadata": {},
     "output_type": "execute_result"
    }
   ],
   "source": [
    "df_tr.columns"
   ]
  },
  {
   "cell_type": "code",
   "execution_count": 3,
   "metadata": {},
   "outputs": [],
   "source": [
    "df_te = pd.read_csv('test.csv')\n",
    "df_te.fillna(-1,inplace=True)"
   ]
  },
  {
   "cell_type": "code",
   "execution_count": 4,
   "metadata": {},
   "outputs": [
    {
     "data": {
      "text/plain": [
       "0.49979269141688665"
      ]
     },
     "execution_count": 4,
     "metadata": {},
     "output_type": "execute_result"
    }
   ],
   "source": [
    "df_tr['HasDetections'].mean()"
   ]
  },
  {
   "cell_type": "markdown",
   "metadata": {},
   "source": [
    "The dataset is balanced. Let's check for very high cardinality feats"
   ]
  },
  {
   "cell_type": "code",
   "execution_count": 4,
   "metadata": {
    "scrolled": true
   },
   "outputs": [
    {
     "data": {
      "text/plain": [
       "MachineIdentifier                        8921483\n",
       "AvSigVersion                                8531\n",
       "AVProductStatesIdentifier                  28970\n",
       "CityIdentifier                            107366\n",
       "Census_OEMNameIdentifier                    3832\n",
       "Census_OEMModelIdentifier                 175365\n",
       "Census_ProcessorModelIdentifier             3428\n",
       "Census_PrimaryDiskTotalCapacity             5735\n",
       "Census_SystemVolumeTotalCapacity          536848\n",
       "Census_TotalPhysicalRAM                     3446\n",
       "Census_InternalBatteryNumberOfCharges      41088\n",
       "Census_FirmwareVersionIdentifier           50494\n",
       "dtype: int64"
      ]
     },
     "execution_count": 4,
     "metadata": {},
     "output_type": "execute_result"
    }
   ],
   "source": [
    "n_un = df_tr.nunique()\n",
    "n_un[n_un > 2500]"
   ]
  },
  {
   "cell_type": "code",
   "execution_count": 5,
   "metadata": {},
   "outputs": [
    {
     "data": {
      "text/plain": [
       "['MachineIdentifier',\n",
       " 'AvSigVersion',\n",
       " 'AVProductStatesIdentifier',\n",
       " 'CityIdentifier',\n",
       " 'Census_OEMNameIdentifier',\n",
       " 'Census_OEMModelIdentifier',\n",
       " 'Census_ProcessorModelIdentifier',\n",
       " 'Census_PrimaryDiskTotalCapacity',\n",
       " 'Census_SystemVolumeTotalCapacity',\n",
       " 'Census_TotalPhysicalRAM',\n",
       " 'Census_InternalBatteryNumberOfCharges',\n",
       " 'Census_FirmwareVersionIdentifier']"
      ]
     },
     "execution_count": 5,
     "metadata": {},
     "output_type": "execute_result"
    }
   ],
   "source": [
    "list(n_un[n_un > 2500].index)"
   ]
  },
  {
   "cell_type": "markdown",
   "metadata": {},
   "source": [
    "## Let's go over high cardinality feats and decide what to do with them.\n",
    "\n",
    "For columns that have a too high cardinality, the easiest thing to do is to encode individually only values that appear often in the data, and give a unique category \"uncommon IDs\" to the rest. <br>\n",
    "If possible we can do more sophisticated feature engineering, but let's try not to."
   ]
  },
  {
   "cell_type": "code",
   "execution_count": 5,
   "metadata": {},
   "outputs": [],
   "source": [
    "smalldf = df_tr.sample(200000)"
   ]
  },
  {
   "cell_type": "code",
   "execution_count": 16,
   "metadata": {},
   "outputs": [],
   "source": [
    "smallte = df_te.sample(200000)"
   ]
  },
  {
   "cell_type": "markdown",
   "metadata": {},
   "source": [
    "### MachineIdentifier is the index, np. <br>\n",
    "### AvSigVersion:"
   ]
  },
  {
   "cell_type": "code",
   "execution_count": 7,
   "metadata": {},
   "outputs": [
    {
     "data": {
      "text/plain": [
       "4483958    1.273.1565.0\n",
       "46282        1.277.23.0\n",
       "7792929     1.249.872.0\n",
       "7258190     1.271.514.0\n",
       "8713147    1.273.1749.0\n",
       "Name: AvSigVersion, dtype: object"
      ]
     },
     "execution_count": 7,
     "metadata": {},
     "output_type": "execute_result"
    }
   ],
   "source": [
    "smalldf['AvSigVersion'].head()"
   ]
  },
  {
   "cell_type": "markdown",
   "metadata": {},
   "source": [
    "Cut it on dots"
   ]
  },
  {
   "cell_type": "code",
   "execution_count": 6,
   "metadata": {
    "scrolled": true
   },
   "outputs": [
    {
     "data": {
      "text/html": [
       "<div>\n",
       "<style scoped>\n",
       "    .dataframe tbody tr th:only-of-type {\n",
       "        vertical-align: middle;\n",
       "    }\n",
       "\n",
       "    .dataframe tbody tr th {\n",
       "        vertical-align: top;\n",
       "    }\n",
       "\n",
       "    .dataframe thead th {\n",
       "        text-align: right;\n",
       "    }\n",
       "</style>\n",
       "<table border=\"1\" class=\"dataframe\">\n",
       "  <thead>\n",
       "    <tr style=\"text-align: right;\">\n",
       "      <th></th>\n",
       "      <th>0</th>\n",
       "      <th>1</th>\n",
       "      <th>2</th>\n",
       "      <th>3</th>\n",
       "    </tr>\n",
       "  </thead>\n",
       "  <tbody>\n",
       "    <tr>\n",
       "      <th>0</th>\n",
       "      <td>1</td>\n",
       "      <td>275</td>\n",
       "      <td>1075</td>\n",
       "      <td>0</td>\n",
       "    </tr>\n",
       "    <tr>\n",
       "      <th>1</th>\n",
       "      <td>1</td>\n",
       "      <td>273</td>\n",
       "      <td>950</td>\n",
       "      <td>0</td>\n",
       "    </tr>\n",
       "    <tr>\n",
       "      <th>2</th>\n",
       "      <td>1</td>\n",
       "      <td>275</td>\n",
       "      <td>836</td>\n",
       "      <td>0</td>\n",
       "    </tr>\n",
       "    <tr>\n",
       "      <th>3</th>\n",
       "      <td>1</td>\n",
       "      <td>275</td>\n",
       "      <td>727</td>\n",
       "      <td>0</td>\n",
       "    </tr>\n",
       "    <tr>\n",
       "      <th>4</th>\n",
       "      <td>1</td>\n",
       "      <td>273</td>\n",
       "      <td>1167</td>\n",
       "      <td>0</td>\n",
       "    </tr>\n",
       "  </tbody>\n",
       "</table>\n",
       "</div>"
      ],
      "text/plain": [
       "   0    1     2  3\n",
       "0  1  275  1075  0\n",
       "1  1  273   950  0\n",
       "2  1  275   836  0\n",
       "3  1  275   727  0\n",
       "4  1  273  1167  0"
      ]
     },
     "execution_count": 6,
     "metadata": {},
     "output_type": "execute_result"
    }
   ],
   "source": [
    "import re\n",
    "splitter = lambda x : x.split(\".\")\n",
    "splitted_sig = pd.DataFrame([splitter(o) for o in smalldf['AvSigVersion'].values])\n",
    "splitted_sig.head()"
   ]
  },
  {
   "cell_type": "code",
   "execution_count": 9,
   "metadata": {},
   "outputs": [
    {
     "data": {
      "text/html": [
       "<div>\n",
       "<style scoped>\n",
       "    .dataframe tbody tr th:only-of-type {\n",
       "        vertical-align: middle;\n",
       "    }\n",
       "\n",
       "    .dataframe tbody tr th {\n",
       "        vertical-align: top;\n",
       "    }\n",
       "\n",
       "    .dataframe thead th {\n",
       "        text-align: right;\n",
       "    }\n",
       "</style>\n",
       "<table border=\"1\" class=\"dataframe\">\n",
       "  <thead>\n",
       "    <tr style=\"text-align: right;\">\n",
       "      <th></th>\n",
       "      <th>0</th>\n",
       "      <th>1</th>\n",
       "      <th>2</th>\n",
       "      <th>3</th>\n",
       "    </tr>\n",
       "  </thead>\n",
       "  <tbody>\n",
       "    <tr>\n",
       "      <th>0</th>\n",
       "      <td>1</td>\n",
       "      <td>277</td>\n",
       "      <td>717</td>\n",
       "      <td>0</td>\n",
       "    </tr>\n",
       "    <tr>\n",
       "      <th>1</th>\n",
       "      <td>1</td>\n",
       "      <td>277</td>\n",
       "      <td>176</td>\n",
       "      <td>0</td>\n",
       "    </tr>\n",
       "    <tr>\n",
       "      <th>2</th>\n",
       "      <td>1</td>\n",
       "      <td>279</td>\n",
       "      <td>646</td>\n",
       "      <td>0</td>\n",
       "    </tr>\n",
       "    <tr>\n",
       "      <th>3</th>\n",
       "      <td>1</td>\n",
       "      <td>277</td>\n",
       "      <td>204</td>\n",
       "      <td>0</td>\n",
       "    </tr>\n",
       "    <tr>\n",
       "      <th>4</th>\n",
       "      <td>1</td>\n",
       "      <td>279</td>\n",
       "      <td>1626</td>\n",
       "      <td>0</td>\n",
       "    </tr>\n",
       "  </tbody>\n",
       "</table>\n",
       "</div>"
      ],
      "text/plain": [
       "   0    1     2  3\n",
       "0  1  277   717  0\n",
       "1  1  277   176  0\n",
       "2  1  279   646  0\n",
       "3  1  277   204  0\n",
       "4  1  279  1626  0"
      ]
     },
     "execution_count": 9,
     "metadata": {},
     "output_type": "execute_result"
    }
   ],
   "source": [
    "split_te = pd.DataFrame([splitter(o) for o in smallte['AvSigVersion'].values])\n",
    "split_te.head()"
   ]
  },
  {
   "cell_type": "markdown",
   "metadata": {},
   "source": [
    "Shit the test and train set dont have the same antivirus signatures, cant use the feature like that"
   ]
  },
  {
   "cell_type": "code",
   "execution_count": 10,
   "metadata": {},
   "outputs": [
    {
     "data": {
      "text/plain": [
       "0       2\n",
       "1      35\n",
       "2    1993\n",
       "3       1\n",
       "dtype: int64"
      ]
     },
     "execution_count": 10,
     "metadata": {},
     "output_type": "execute_result"
    }
   ],
   "source": [
    "splitted_sig.nunique() #number of unique values per column"
   ]
  },
  {
   "cell_type": "code",
   "execution_count": 11,
   "metadata": {},
   "outputs": [
    {
     "data": {
      "text/plain": [
       "1\n",
       "0                                                    [0]\n",
       "199                                               [1615]\n",
       "201                                               [2151]\n",
       "207                                         [1186, 2950]\n",
       "213                                         [2626, 7751]\n",
       "217                                               [1446]\n",
       "221                                                 [14]\n",
       "223    [834, 927, 992, 1159, 1370, 1473, 1665, 1709, ...\n",
       "225    [35, 145, 160, 237, 255, 264, 323, 394, 412, 4...\n",
       "227    [29, 120, 179, 202, 254, 359, 370, 376, 408, 4...\n",
       "229    [18, 35, 68, 111, 172, 210, 232, 252, 259, 327...\n",
       "231    [12, 31, 55, 66, 103, 129, 137, 151, 192, 224,...\n",
       "233    [14, 71, 112, 119, 154, 155, 165, 177, 202, 21...\n",
       "235    [39, 53, 70, 126, 133, 149, 163, 174, 182, 224...\n",
       "237    [0, 11, 30, 42, 47, 52, 58, 72, 77, 128, 134, ...\n",
       "239    [31, 37, 76, 92, 104, 126, 131, 135, 151, 171,...\n",
       "241    [4, 35, 41, 72, 117, 120, 157, 188, 229, 234, ...\n",
       "243    [0, 3, 10, 39, 52, 69, 74, 80, 98, 121, 133, 1...\n",
       "245    [2, 17, 18, 60, 82, 98, 116, 133, 137, 148, 15...\n",
       "247    [25, 28, 38, 43, 56, 64, 75, 82, 83, 87, 88, 9...\n",
       "249    [11, 13, 17, 20, 22, 25, 28, 30, 47, 90, 93, 9...\n",
       "251    [1, 28, 32, 34, 36, 38, 42, 70, 95, 113, 115, ...\n",
       "253    [6, 19, 24, 30, 31, 34, 63, 79, 85, 94, 102, 1...\n",
       "255    [2, 29, 39, 48, 53, 60, 74, 95, 107, 110, 113,...\n",
       "257    [0, 12, 15, 24, 36, 38, 45, 58, 70, 74, 76, 78...\n",
       "259    [1, 13, 16, 35, 37, 42, 56, 60, 87, 91, 94, 10...\n",
       "261    [13, 25, 29, 44, 45, 46, 51, 61, 65, 70, 76, 7...\n",
       "263    [0, 2, 3, 14, 42, 44, 46, 48, 52, 59, 65, 67, ...\n",
       "265    [3, 5, 27, 32, 36, 49, 51, 53, 69, 74, 80, 83,...\n",
       "267    [11, 15, 60, 69, 73, 76, 78, 79, 86, 90, 93, 9...\n",
       "269    [5, 13, 17, 23, 24, 28, 42, 48, 51, 52, 55, 58...\n",
       "271    [11, 17, 19, 22, 37, 40, 41, 44, 47, 49, 51, 5...\n",
       "273    [17, 20, 32, 35, 37, 39, 43, 46, 52, 55, 58, 6...\n",
       "275    [5, 8, 11, 18, 23, 26, 30, 33, 36, 40, 41, 46,...\n",
       "277    [2, 4, 13, 15, 18, 20, 23, 25, 41, 43, 46, 48,...\n",
       "Name: 2, dtype: object"
      ]
     },
     "execution_count": 11,
     "metadata": {},
     "output_type": "execute_result"
    }
   ],
   "source": [
    "\"\"\"\n",
    "Index (on the left) is column 1 from split signatures.\n",
    "The lists on the right are all the possible values taken by column 2, sorted,\n",
    "when column 1 takes the value from the index. \n",
    "So when splitted_sig[1] == 213, splitted_sig[2] can take the value 2626, 7751\n",
    "\"\"\"\n",
    "\n",
    "splitted_sig[[1,2]].groupby(1)[2].apply(set).apply(lambda x : sorted([int(o) for o in x]))"
   ]
  },
  {
   "cell_type": "code",
   "execution_count": 12,
   "metadata": {},
   "outputs": [
    {
     "data": {
      "text/plain": [
       "1\n",
       "0                                                    [0]\n",
       "199                                               [1615]\n",
       "207                                               [2950]\n",
       "211                                               [1747]\n",
       "213                                                [134]\n",
       "219                                               [1665]\n",
       "221                                                 [14]\n",
       "223    [649, 850, 1333, 1384, 1414, 1538, 1597, 1640,...\n",
       "225    [48, 101, 164, 191, 241, 306, 345, 433, 462, 4...\n",
       "227    [54, 59, 76, 113, 283, 313, 349, 354, 394, 512...\n",
       "229    [35, 59, 120, 122, 138, 163, 259, 287, 313, 36...\n",
       "231    [111, 175, 189, 195, 206, 216, 327, 353, 385, ...\n",
       "233    [38, 46, 86, 112, 119, 126, 172, 194, 216, 245...\n",
       "235    [53, 70, 156, 182, 195, 238, 329, 397, 415, 42...\n",
       "237    [0, 32, 47, 58, 77, 185, 196, 262, 290, 305, 3...\n",
       "239    [31, 37, 64, 76, 92, 122, 129, 139, 178, 194, ...\n",
       "241    [4, 35, 72, 166, 183, 188, 206, 217, 234, 257,...\n",
       "243    [10, 74, 80, 92, 98, 121, 133, 167, 185, 196, ...\n",
       "245    [2, 17, 18, 36, 41, 55, 65, 98, 137, 140, 152,...\n",
       "247    [23, 28, 29, 43, 56, 63, 64, 68, 75, 76, 78, 8...\n",
       "249    [13, 20, 28, 30, 47, 86, 93, 107, 109, 113, 11...\n",
       "251    [1, 28, 38, 42, 70, 103, 112, 116, 122, 123, 1...\n",
       "253    [31, 34, 79, 85, 94, 96, 109, 125, 128, 135, 1...\n",
       "255    [2, 29, 39, 60, 74, 95, 102, 107, 113, 118, 15...\n",
       "257    [6, 12, 15, 24, 36, 38, 45, 58, 70, 74, 78, 84...\n",
       "259    [1, 16, 47, 56, 60, 78, 94, 104, 107, 109, 111...\n",
       "261    [18, 22, 25, 34, 45, 46, 51, 61, 65, 70, 72, 7...\n",
       "263    [3, 14, 44, 48, 51, 52, 75, 78, 81, 82, 83, 85...\n",
       "265    [3, 5, 27, 32, 36, 49, 51, 53, 74, 80, 83, 89,...\n",
       "267    [11, 15, 56, 65, 73, 76, 78, 79, 86, 90, 93, 9...\n",
       "269    [5, 13, 17, 24, 28, 42, 48, 51, 52, 55, 58, 69...\n",
       "271    [11, 17, 19, 22, 37, 41, 44, 47, 49, 51, 55, 7...\n",
       "273    [17, 20, 32, 35, 37, 39, 43, 46, 52, 55, 58, 6...\n",
       "275    [5, 8, 11, 18, 23, 26, 30, 33, 36, 40, 41, 46,...\n",
       "277    [2, 4, 13, 15, 18, 20, 23, 25, 41, 43, 46, 48,...\n",
       "279    [8, 10, 14, 19, 22, 32, 59, 62, 64, 67, 69, 74...\n",
       "281    [19, 25, 27, 34, 36, 39, 42, 45, 47, 50, 53, 5...\n",
       "Name: 2, dtype: object"
      ]
     },
     "execution_count": 12,
     "metadata": {},
     "output_type": "execute_result"
    }
   ],
   "source": [
    "split_te[[1,2]].groupby(1)[2].apply(set).apply(lambda x : sorted([int(o) for o in x]))"
   ]
  },
  {
   "cell_type": "markdown",
   "metadata": {},
   "source": [
    "Test & train really don't have the same av signatures. Can't use them as integer categories, as categories from the test set won't be known by the NN. We could encode them as NaN but we'll lose a lot of info. <br>\n",
    "Or we could encode them as real numbers and normalize them with 0 mean 1 std but not sure how to give them an ordering that makes sense. <br>\n",
    "We could do a \"av signature radix\" and decompose av signatures into <br>\n",
    "$$ signature_0 * base_0 + signature_1 * base_1 + signature_2 * base_2 + signature_3 * base_3 $$\n",
    "as is done with radix 2 for binary and radix 10 for decimal, but even like that i'm not sure we can reliably determine base2 for example, i.e. know when they decide that version 0.0.X.Y is going to 0.A.0.0 and not 0.0.X.Z. <br>\n",
    "Or maybe we can just take it easy and drop all columns except column 1, this one seems to grow kind of regularly, up to 277 in the sampled train set and up to 281 in the sampled test set. We could just divide this column by 300, remove its mean and basta. <br>\n",
    "Let's try version 2 for the moment\n"
   ]
  },
  {
   "cell_type": "code",
   "execution_count": 7,
   "metadata": {},
   "outputs": [],
   "source": [
    "tr = pd.DataFrame([splitter(o) for o in df_tr['AvSigVersion'].values])"
   ]
  },
  {
   "cell_type": "code",
   "execution_count": 8,
   "metadata": {},
   "outputs": [],
   "source": [
    "tr = tr[2].astype('float32')\n",
    "tr = tr - tr.mean()\n",
    "tr = tr/tr.std()\n",
    "df_tr['AvSigVersion'] = tr"
   ]
  },
  {
   "cell_type": "code",
   "execution_count": 10,
   "metadata": {},
   "outputs": [],
   "source": [
    "te = pd.DataFrame([splitter(o) for o in df_te['AvSigVersion'].values])"
   ]
  },
  {
   "cell_type": "code",
   "execution_count": 11,
   "metadata": {},
   "outputs": [],
   "source": [
    "\"\"\"\n",
    "In nearly all cases we should normalize the test set with\n",
    "the mean and std from the train set, but here we actually want\n",
    "to normalize separately so that the test set's first avsig \n",
    "has value 0\n",
    "\"\"\"\n",
    "te = te[2].astype('float32')\n",
    "te = (te - te.mean())/te.std()\n",
    "df_te['AvSigVersion'] = te"
   ]
  },
  {
   "cell_type": "markdown",
   "metadata": {},
   "source": [
    "### AVProductStatesIdentifier:"
   ]
  },
  {
   "cell_type": "code",
   "execution_count": 13,
   "metadata": {},
   "outputs": [
    {
     "data": {
      "text/plain": [
       "908438     53447.0\n",
       "5641020    53447.0\n",
       "7329451    53447.0\n",
       "2321050    53447.0\n",
       "8047708    53447.0\n",
       "Name: AVProductStatesIdentifier, dtype: float64"
      ]
     },
     "execution_count": 13,
     "metadata": {},
     "output_type": "execute_result"
    }
   ],
   "source": [
    "smalldf['AVProductStatesIdentifier'].head()"
   ]
  },
  {
   "cell_type": "code",
   "execution_count": 14,
   "metadata": {},
   "outputs": [
    {
     "data": {
      "text/plain": [
       "<matplotlib.axes._subplots.AxesSubplot at 0x7f48cc7feeb8>"
      ]
     },
     "execution_count": 14,
     "metadata": {},
     "output_type": "execute_result"
    },
    {
     "data": {
      "image/png": "[encoded data removed]",
      "text/plain": [
       "<Figure size 432x288 with 1 Axes>"
      ]
     },
     "metadata": {
      "needs_background": "light"
     },
     "output_type": "display_data"
    }
   ],
   "source": [
    "smalldf['AVProductStatesIdentifier'].plot.hist()"
   ]
  },
  {
   "cell_type": "code",
   "execution_count": 17,
   "metadata": {},
   "outputs": [
    {
     "data": {
      "text/plain": [
       "<matplotlib.axes._subplots.AxesSubplot at 0x7f48f16bb198>"
      ]
     },
     "execution_count": 17,
     "metadata": {},
     "output_type": "execute_result"
    },
    {
     "data": {
      "image/png": "[encoded data removed]",
      "text/plain": [
       "<Figure size 432x288 with 1 Axes>"
      ]
     },
     "metadata": {
      "needs_background": "light"
     },
     "output_type": "display_data"
    }
   ],
   "source": [
    "smallte['AVProductStatesIdentifier'].plot.hist()"
   ]
  },
  {
   "cell_type": "code",
   "execution_count": 18,
   "metadata": {},
   "outputs": [
    {
     "data": {
      "text/plain": [
       "10861"
      ]
     },
     "execution_count": 18,
     "metadata": {},
     "output_type": "execute_result"
    }
   ],
   "source": [
    "len(list(set(df_te['AVProductStatesIdentifier']).difference(set(df_tr['AVProductStatesIdentifier']))))"
   ]
  },
  {
   "cell_type": "markdown",
   "metadata": {},
   "source": [
    "Hmm 10k categories from the test set are not covered in the train set that's not good. Let's see how many data points that represents if we encode only the 500 most common from the train set, and only examples with > 30 occurences"
   ]
  },
  {
   "cell_type": "code",
   "execution_count": 21,
   "metadata": {},
   "outputs": [],
   "source": [
    "def get_col_enc_dict(c) :\n",
    "    \"\"\"\n",
    "    Takes as input c, a pd.Series.\n",
    "    Counts uniques values in c\n",
    "    Creates a list of values that have at least 10 occurences in c.\n",
    "    The first element in the list is the most frequent element in c, etc.\n",
    "    Keeps the first 500 elements, store it in most_comm_vals\n",
    "    Returns a dict mapping the most 500 frequent values to their position (+1)\n",
    "    in the list. To be used to int encode c.\n",
    "    \"\"\"\n",
    "    ct = Counter(c)\n",
    "    most_comm_vals = [k for k,v in ct.most_common() if ((v > 30) & (k != -1))][:500]\n",
    "    most_comm_dict = {k : v+1 for v,k in enumerate(most_comm_vals)}\n",
    "    most_comm_dict[-1] = -1\n",
    "    return most_comm_dict\n",
    "\n",
    "def enc_col(col,d = None) :\n",
    "    \"\"\"\n",
    "    Elements of that c are in d are mapped to their values in d\n",
    "    Elements not in c and are not NaNs are mapped to 0\n",
    "    NaNs were mapped to -1 at the beginning of the notebook and\n",
    "    are kept to -1\n",
    "    \"\"\"\n",
    "    c = col.copy()\n",
    "    if d is None : d = get_col_enc_dict(c)\n",
    "    in_keys = c.isin(d.keys())\n",
    "    c.loc[in_keys] = c.map(d)\n",
    "    c.loc[~in_keys] = 0\n",
    "    return c,d"
   ]
  },
  {
   "cell_type": "code",
   "execution_count": 23,
   "metadata": {},
   "outputs": [],
   "source": [
    "tr, dict_av_id = enc_col(df_tr['AVProductStatesIdentifier'])\n",
    "te, _ = enc_col(df_te['AVProductStatesIdentifier'],dict_av_id)"
   ]
  },
  {
   "cell_type": "code",
   "execution_count": 18,
   "metadata": {},
   "outputs": [
    {
     "data": {
      "text/plain": [
       "0.022095205472005046"
      ]
     },
     "execution_count": 18,
     "metadata": {},
     "output_type": "execute_result"
    }
   ],
   "source": [
    "(tr == 0).sum()/tr.shape[0]"
   ]
  },
  {
   "cell_type": "code",
   "execution_count": 19,
   "metadata": {},
   "outputs": [
    {
     "data": {
      "text/plain": [
       "0.019853556226954613"
      ]
     },
     "execution_count": 19,
     "metadata": {},
     "output_type": "execute_result"
    }
   ],
   "source": [
    "(te == 0).sum()/te.shape[0]"
   ]
  },
  {
   "cell_type": "markdown",
   "metadata": {},
   "source": [
    "Ok that should be fine, approx 2% of the dataset won't have unique labels, and are given the \"bucket label\" 0 of uncommon values"
   ]
  },
  {
   "cell_type": "markdown",
   "metadata": {},
   "source": [
    "### CityIdentifier:"
   ]
  },
  {
   "cell_type": "code",
   "execution_count": 20,
   "metadata": {},
   "outputs": [
    {
     "data": {
      "text/plain": [
       "1558012     34946.0\n",
       "4032551     70124.0\n",
       "421110      35169.0\n",
       "6534122     48582.0\n",
       "2692332    120008.0\n",
       "Name: CityIdentifier, dtype: float64"
      ]
     },
     "execution_count": 20,
     "metadata": {},
     "output_type": "execute_result"
    }
   ],
   "source": [
    "smalldf['CityIdentifier'].head()"
   ]
  },
  {
   "cell_type": "code",
   "execution_count": 21,
   "metadata": {},
   "outputs": [
    {
     "data": {
      "text/plain": [
       "<matplotlib.axes._subplots.AxesSubplot at 0x7f0e4f176e80>"
      ]
     },
     "execution_count": 21,
     "metadata": {},
     "output_type": "execute_result"
    },
    {
     "data": {
      "image/png": "[encoded data removed]",
      "text/plain": [
       "<Figure size 432x288 with 1 Axes>"
      ]
     },
     "metadata": {
      "needs_background": "light"
     },
     "output_type": "display_data"
    }
   ],
   "source": [
    "smalldf['CityIdentifier'].plot.hist()"
   ]
  },
  {
   "cell_type": "code",
   "execution_count": 22,
   "metadata": {},
   "outputs": [
    {
     "data": {
      "text/plain": [
       "<matplotlib.axes._subplots.AxesSubplot at 0x7f0e4b1bceb8>"
      ]
     },
     "execution_count": 22,
     "metadata": {},
     "output_type": "execute_result"
    },
    {
     "data": {
      "image/png": "[encoded data removed]",
      "text/plain": [
       "<Figure size 432x288 with 1 Axes>"
      ]
     },
     "metadata": {
      "needs_background": "light"
     },
     "output_type": "display_data"
    }
   ],
   "source": [
    "smallte['CityIdentifier'].plot.hist()"
   ]
  },
  {
   "cell_type": "code",
   "execution_count": 27,
   "metadata": {},
   "outputs": [],
   "source": [
    "tr, dict_city_id = enc_col(df_tr['CityIdentifier'])\n",
    "te, _ = enc_col(df_te['CityIdentifier'],dict_city_id)"
   ]
  },
  {
   "cell_type": "code",
   "execution_count": 28,
   "metadata": {},
   "outputs": [
    {
     "data": {
      "text/plain": [
       "0.41765276019693137"
      ]
     },
     "execution_count": 28,
     "metadata": {},
     "output_type": "execute_result"
    }
   ],
   "source": [
    "(tr == 0).sum()/8921483"
   ]
  },
  {
   "cell_type": "markdown",
   "metadata": {},
   "source": [
    "That's not good, 42% of the cities have been removed. That was expected given the nearly uniform distribution over cities seen in the above plot... need better encoding"
   ]
  },
  {
   "cell_type": "code",
   "execution_count": 22,
   "metadata": {},
   "outputs": [],
   "source": [
    "def get_col_enc_dict_nosizelimit(c) :\n",
    "\n",
    "    ct = Counter(c)\n",
    "    most_comm_vals = [k for k,v in ct.most_common() if ((v > 100) & (k != -1))]\n",
    "    most_comm_dict = {k : v+1 for v,k in enumerate(most_comm_vals)}\n",
    "    most_comm_dict[-1] = -1\n",
    "    return most_comm_dict\n",
    "\n",
    "def enc_col_nosizelimit(col,d = None) :\n",
    "\n",
    "    c = col.copy()\n",
    "    if d is None : d = get_col_enc_dict_nosizelimit(c)\n",
    "    in_keys = c.isin(d.keys())\n",
    "    c.loc[in_keys] = c.map(d)\n",
    "    c.loc[~in_keys] = 0\n",
    "    return c,d"
   ]
  },
  {
   "cell_type": "code",
   "execution_count": 127,
   "metadata": {},
   "outputs": [],
   "source": [
    "tr, dict_city_id = enc_col_nosizelimit(df_tr['CityIdentifier'])"
   ]
  },
  {
   "cell_type": "code",
   "execution_count": 128,
   "metadata": {},
   "outputs": [
    {
     "data": {
      "text/plain": [
       "(0.1148569133629465, 6961)"
      ]
     },
     "execution_count": 128,
     "metadata": {},
     "output_type": "execute_result"
    }
   ],
   "source": [
    "tr[tr == 0].shape[0]/df_tr.shape[0], len(dict_city_id)"
   ]
  },
  {
   "cell_type": "markdown",
   "metadata": {},
   "source": [
    "Ok now 11% of cities are not covered but we have 7k categories, its a lot but let's deal with it"
   ]
  },
  {
   "cell_type": "markdown",
   "metadata": {},
   "source": [
    "### Census_OEMNameIdentifier :"
   ]
  },
  {
   "cell_type": "code",
   "execution_count": 131,
   "metadata": {},
   "outputs": [
    {
     "data": {
      "text/plain": [
       "908438     4142.0\n",
       "5641020     525.0\n",
       "7329451    3035.0\n",
       "2321050    3035.0\n",
       "8047708     585.0\n",
       "Name: Census_OEMNameIdentifier, dtype: float64"
      ]
     },
     "execution_count": 131,
     "metadata": {},
     "output_type": "execute_result"
    }
   ],
   "source": [
    "smalldf['Census_OEMNameIdentifier'].head()"
   ]
  },
  {
   "cell_type": "code",
   "execution_count": 132,
   "metadata": {},
   "outputs": [
    {
     "data": {
      "text/plain": [
       "<matplotlib.axes._subplots.AxesSubplot at 0x7f48a9838d68>"
      ]
     },
     "execution_count": 132,
     "metadata": {},
     "output_type": "execute_result"
    },
    {
     "data": {
      "image/png": "[encoded data removed]",
      "text/plain": [
       "<Figure size 432x288 with 1 Axes>"
      ]
     },
     "metadata": {
      "needs_background": "light"
     },
     "output_type": "display_data"
    }
   ],
   "source": [
    "smalldf['Census_OEMNameIdentifier'].plot.hist()"
   ]
  },
  {
   "cell_type": "code",
   "execution_count": 133,
   "metadata": {},
   "outputs": [
    {
     "data": {
      "text/plain": [
       "<matplotlib.axes._subplots.AxesSubplot at 0x7f48e18201d0>"
      ]
     },
     "execution_count": 133,
     "metadata": {},
     "output_type": "execute_result"
    },
    {
     "data": {
      "image/png": "[encoded data removed]",
      "text/plain": [
       "<Figure size 432x288 with 1 Axes>"
      ]
     },
     "metadata": {
      "needs_background": "light"
     },
     "output_type": "display_data"
    }
   ],
   "source": [
    "smallte['Census_OEMNameIdentifier'].plot.hist()"
   ]
  },
  {
   "cell_type": "code",
   "execution_count": 134,
   "metadata": {},
   "outputs": [
    {
     "data": {
      "text/plain": [
       "908438     4142.0\n",
       "5641020     525.0\n",
       "7329451    3035.0\n",
       "2321050    3035.0\n",
       "8047708     585.0\n",
       "5009368    1443.0\n",
       "938081     4730.0\n",
       "8409031    1443.0\n",
       "8799750    2102.0\n",
       "5304663    4589.0\n",
       "5636351    4142.0\n",
       "4663479     525.0\n",
       "4021695    2436.0\n",
       "6252442     585.0\n",
       "5466622    1980.0\n",
       "Name: Census_OEMNameIdentifier, dtype: float64"
      ]
     },
     "execution_count": 134,
     "metadata": {},
     "output_type": "execute_result"
    }
   ],
   "source": [
    "smalldf['Census_OEMNameIdentifier'].head(15)"
   ]
  },
  {
   "cell_type": "code",
   "execution_count": 135,
   "metadata": {},
   "outputs": [
    {
     "data": {
      "text/plain": [
       "809"
      ]
     },
     "execution_count": 135,
     "metadata": {},
     "output_type": "execute_result"
    }
   ],
   "source": [
    "len(list(set(df_te['Census_OEMNameIdentifier']).difference(set(df_tr['Census_OEMNameIdentifier']))))"
   ]
  },
  {
   "cell_type": "code",
   "execution_count": 136,
   "metadata": {},
   "outputs": [],
   "source": [
    "feat = 'Census_OEMNameIdentifier'\n",
    "tr, d = enc_col(df_tr[feat])\n",
    "te, _ = enc_col(df_te[feat],d)"
   ]
  },
  {
   "cell_type": "code",
   "execution_count": 137,
   "metadata": {},
   "outputs": [
    {
     "data": {
      "text/plain": [
       "(0.005121570034937017, 0.005334477317870697)"
      ]
     },
     "execution_count": 137,
     "metadata": {},
     "output_type": "execute_result"
    }
   ],
   "source": [
    "(tr == 0).sum()/8921483, (te == 0).sum()/7853253"
   ]
  },
  {
   "cell_type": "markdown",
   "metadata": {},
   "source": [
    "Perfect, less than 0.6% of the data in the bucket category of 0"
   ]
  },
  {
   "cell_type": "markdown",
   "metadata": {},
   "source": [
    "### Census_OEMModelIdentifier :"
   ]
  },
  {
   "cell_type": "code",
   "execution_count": 138,
   "metadata": {},
   "outputs": [
    {
     "data": {
      "text/plain": [
       "<matplotlib.axes._subplots.AxesSubplot at 0x7f48b62fc550>"
      ]
     },
     "execution_count": 138,
     "metadata": {},
     "output_type": "execute_result"
    },
    {
     "data": {
      "image/png": "[encoded data removed]",
      "text/plain": [
       "<Figure size 432x288 with 1 Axes>"
      ]
     },
     "metadata": {
      "needs_background": "light"
     },
     "output_type": "display_data"
    }
   ],
   "source": [
    "smalldf['Census_OEMModelIdentifier'].plot.hist()"
   ]
  },
  {
   "cell_type": "code",
   "execution_count": 139,
   "metadata": {},
   "outputs": [
    {
     "data": {
      "text/plain": [
       "<matplotlib.axes._subplots.AxesSubplot at 0x7f48af92fd30>"
      ]
     },
     "execution_count": 139,
     "metadata": {},
     "output_type": "execute_result"
    },
    {
     "data": {
      "image/png": "[encoded data removed]",
      "text/plain": [
       "<Figure size 432x288 with 1 Axes>"
      ]
     },
     "metadata": {
      "needs_background": "light"
     },
     "output_type": "display_data"
    }
   ],
   "source": [
    "smallte['Census_OEMModelIdentifier'].plot.hist()"
   ]
  },
  {
   "cell_type": "code",
   "execution_count": 140,
   "metadata": {},
   "outputs": [
    {
     "data": {
      "text/plain": [
       "(0.47855440625734535, 0.4889990173498804)"
      ]
     },
     "execution_count": 140,
     "metadata": {},
     "output_type": "execute_result"
    }
   ],
   "source": [
    "feat = 'Census_OEMModelIdentifier'\n",
    "tr, d = enc_col(df_tr[feat])\n",
    "te, _ = enc_col(df_te[feat],d)\n",
    "(tr == 0).sum()/8921483, (te == 0).sum()/7853253"
   ]
  },
  {
   "cell_type": "markdown",
   "metadata": {},
   "source": [
    "Not good, let's try the other encoder"
   ]
  },
  {
   "cell_type": "code",
   "execution_count": 142,
   "metadata": {},
   "outputs": [
    {
     "data": {
      "text/plain": [
       "(0.11205166226287715, 0.11495974980049668, 7140)"
      ]
     },
     "execution_count": 142,
     "metadata": {},
     "output_type": "execute_result"
    }
   ],
   "source": [
    "\n",
    "tr, d = enc_col_nosizelimit(df_tr[feat])\n",
    "te, _ = enc_col_nosizelimit(df_te[feat],d)\n",
    "(tr == 0).sum()/8921483, (te == 0).sum()/7853253, len(d)"
   ]
  },
  {
   "cell_type": "markdown",
   "metadata": {},
   "source": [
    "7k categories again, let's deal with it"
   ]
  },
  {
   "cell_type": "markdown",
   "metadata": {},
   "source": [
    "### Census_ProcessorModelIdentifier :"
   ]
  },
  {
   "cell_type": "code",
   "execution_count": 26,
   "metadata": {},
   "outputs": [
    {
     "data": {
      "text/plain": [
       "array([3521., 3394., 1992., ...,  389.,  828., 4107.])"
      ]
     },
     "execution_count": 26,
     "metadata": {},
     "output_type": "execute_result"
    }
   ],
   "source": [
    "smalldf['Census_ProcessorModelIdentifier'].unique()"
   ]
  },
  {
   "cell_type": "code",
   "execution_count": 27,
   "metadata": {},
   "outputs": [
    {
     "data": {
      "text/plain": [
       "<matplotlib.axes._subplots.AxesSubplot at 0x7fae4035ad68>"
      ]
     },
     "execution_count": 27,
     "metadata": {},
     "output_type": "execute_result"
    },
    {
     "data": {
      "image/png": "[encoded data removed]",
      "text/plain": [
       "<Figure size 432x288 with 1 Axes>"
      ]
     },
     "metadata": {
      "needs_background": "light"
     },
     "output_type": "display_data"
    }
   ],
   "source": [
    "smalldf['Census_ProcessorModelIdentifier'].plot.hist()"
   ]
  },
  {
   "cell_type": "code",
   "execution_count": 147,
   "metadata": {},
   "outputs": [
    {
     "data": {
      "text/plain": [
       "<matplotlib.axes._subplots.AxesSubplot at 0x7f49119beeb8>"
      ]
     },
     "execution_count": 147,
     "metadata": {},
     "output_type": "execute_result"
    },
    {
     "data": {
      "image/png": "[encoded data removed]",
      "text/plain": [
       "<Figure size 432x288 with 1 Axes>"
      ]
     },
     "metadata": {
      "needs_background": "light"
     },
     "output_type": "display_data"
    }
   ],
   "source": [
    "smallte['Census_ProcessorModelIdentifier'].plot.hist()"
   ]
  },
  {
   "cell_type": "code",
   "execution_count": 148,
   "metadata": {},
   "outputs": [
    {
     "data": {
      "text/plain": [
       "(0.07304054718257043, 0.07750953649398536)"
      ]
     },
     "execution_count": 148,
     "metadata": {},
     "output_type": "execute_result"
    }
   ],
   "source": [
    "feat = 'Census_ProcessorModelIdentifier'\n",
    "tr, d = enc_col(df_tr[feat])\n",
    "te, _ = enc_col(df_te[feat],d)\n",
    "(tr == 0).sum()/8921483, (te == 0).sum()/7853253"
   ]
  },
  {
   "cell_type": "markdown",
   "metadata": {},
   "source": [
    "Good"
   ]
  },
  {
   "cell_type": "markdown",
   "metadata": {},
   "source": [
    "### Census_PrimaryDiskTotalCapacity\n",
    "Not an Identifier for once, maybe there's some feature engineering to do"
   ]
  },
  {
   "cell_type": "code",
   "execution_count": 186,
   "metadata": {},
   "outputs": [],
   "source": [
    "ser = df_tr['Census_PrimaryDiskTotalCapacity'].copy()\n"
   ]
  },
  {
   "cell_type": "code",
   "execution_count": 187,
   "metadata": {},
   "outputs": [
    {
     "data": {
      "text/plain": [
       "<matplotlib.axes._subplots.AxesSubplot at 0x7f48d52f2be0>"
      ]
     },
     "execution_count": 187,
     "metadata": {},
     "output_type": "execute_result"
    },
    {
     "data": {
      "image/png": "[encoded data removed]",
      "text/plain": [
       "<Figure size 432x288 with 1 Axes>"
      ]
     },
     "metadata": {
      "needs_background": "light"
     },
     "output_type": "display_data"
    }
   ],
   "source": [
    "ser.plot.hist()"
   ]
  },
  {
   "cell_type": "code",
   "execution_count": 189,
   "metadata": {},
   "outputs": [
    {
     "data": {
      "text/plain": [
       "<matplotlib.axes._subplots.AxesSubplot at 0x7f48b8907358>"
      ]
     },
     "execution_count": 189,
     "metadata": {},
     "output_type": "execute_result"
    },
    {
     "data": {
      "image/png": "[encoded data removed]",
      "text/plain": [
       "<Figure size 432x288 with 1 Axes>"
      ]
     },
     "metadata": {
      "needs_background": "light"
     },
     "output_type": "display_data"
    }
   ],
   "source": [
    "(ser/1e12).plot.hist()"
   ]
  },
  {
   "cell_type": "code",
   "execution_count": 190,
   "metadata": {
    "scrolled": true
   },
   "outputs": [
    {
     "data": {
      "text/plain": [
       "<matplotlib.axes._subplots.AxesSubplot at 0x7f48caaf56d8>"
      ]
     },
     "execution_count": 190,
     "metadata": {},
     "output_type": "execute_result"
    },
    {
     "data": {
      "image/png": "[encoded data removed]",
      "text/plain": [
       "<Figure size 432x288 with 1 Axes>"
      ]
     },
     "metadata": {
      "needs_background": "light"
     },
     "output_type": "display_data"
    }
   ],
   "source": [
    "(ser[ser < 1e6]/1e6).plot.hist()"
   ]
  },
  {
   "cell_type": "code",
   "execution_count": 191,
   "metadata": {},
   "outputs": [
    {
     "data": {
      "text/plain": [
       "<matplotlib.axes._subplots.AxesSubplot at 0x7f48cebf6eb8>"
      ]
     },
     "execution_count": 191,
     "metadata": {},
     "output_type": "execute_result"
    },
    {
     "data": {
      "image/png": "[encoded data removed]",
      "text/plain": [
       "<Figure size 432x288 with 1 Axes>"
      ]
     },
     "metadata": {
      "needs_background": "light"
     },
     "output_type": "display_data"
    }
   ],
   "source": [
    "(ser[ser > 1e6]/1e6).plot.hist()"
   ]
  },
  {
   "cell_type": "code",
   "execution_count": 192,
   "metadata": {},
   "outputs": [
    {
     "data": {
      "text/plain": [
       "(-1.0, 8160436745562.0)"
      ]
     },
     "execution_count": 192,
     "metadata": {},
     "output_type": "execute_result"
    }
   ],
   "source": [
    "ser.min(),ser.max()"
   ]
  },
  {
   "cell_type": "code",
   "execution_count": 193,
   "metadata": {},
   "outputs": [
    {
     "data": {
      "text/plain": [
       "0    18.863453\n",
       "1    18.863453\n",
       "2    16.804667\n",
       "3    17.863488\n",
       "4    18.863453\n",
       "Name: Census_PrimaryDiskTotalCapacity, dtype: float64"
      ]
     },
     "execution_count": 193,
     "metadata": {},
     "output_type": "execute_result"
    }
   ],
   "source": [
    "logser = np.log2(ser + 1.5)\n",
    "logser.head()"
   ]
  },
  {
   "cell_type": "markdown",
   "metadata": {},
   "source": [
    "Disk capacity is not a power of 2, but let's use it to make it categories"
   ]
  },
  {
   "cell_type": "code",
   "execution_count": 196,
   "metadata": {
    "scrolled": true
   },
   "outputs": [
    {
     "data": {
      "text/plain": [
       "<matplotlib.axes._subplots.AxesSubplot at 0x7f48a86bf630>"
      ]
     },
     "execution_count": 196,
     "metadata": {},
     "output_type": "execute_result"
    },
    {
     "data": {
      "image/png": "[encoded data removed]",
      "text/plain": [
       "<Figure size 432x288 with 1 Axes>"
      ]
     },
     "metadata": {
      "needs_background": "light"
     },
     "output_type": "display_data"
    }
   ],
   "source": [
    "logser = np.log2(ser + 1.5).astype(int)\n",
    "logser.plot.hist()"
   ]
  },
  {
   "cell_type": "code",
   "execution_count": 197,
   "metadata": {},
   "outputs": [
    {
     "data": {
      "text/html": [
       "<div>\n",
       "<style scoped>\n",
       "    .dataframe tbody tr th:only-of-type {\n",
       "        vertical-align: middle;\n",
       "    }\n",
       "\n",
       "    .dataframe tbody tr th {\n",
       "        vertical-align: top;\n",
       "    }\n",
       "\n",
       "    .dataframe thead th {\n",
       "        text-align: right;\n",
       "    }\n",
       "</style>\n",
       "<table border=\"1\" class=\"dataframe\">\n",
       "  <thead>\n",
       "    <tr style=\"text-align: right;\">\n",
       "      <th></th>\n",
       "      <th>0</th>\n",
       "    </tr>\n",
       "  </thead>\n",
       "  <tbody>\n",
       "    <tr>\n",
       "      <th>0</th>\n",
       "      <td>-1</td>\n",
       "    </tr>\n",
       "    <tr>\n",
       "      <th>1</th>\n",
       "      <td>0</td>\n",
       "    </tr>\n",
       "    <tr>\n",
       "      <th>2</th>\n",
       "      <td>1</td>\n",
       "    </tr>\n",
       "    <tr>\n",
       "      <th>3</th>\n",
       "      <td>1</td>\n",
       "    </tr>\n",
       "    <tr>\n",
       "      <th>4</th>\n",
       "      <td>10</td>\n",
       "    </tr>\n",
       "    <tr>\n",
       "      <th>5</th>\n",
       "      <td>16</td>\n",
       "    </tr>\n",
       "  </tbody>\n",
       "</table>\n",
       "</div>"
      ],
      "text/plain": [
       "    0\n",
       "0  -1\n",
       "1   0\n",
       "2   1\n",
       "3   1\n",
       "4  10\n",
       "5  16"
      ]
     },
     "execution_count": 197,
     "metadata": {},
     "output_type": "execute_result"
    }
   ],
   "source": [
    "s_ = [-1,0,0.5,1,2**10, 2**16]\n",
    "logser = np.log2([o + 1.5 for o in s_])\n",
    "pd.DataFrame(logser).astype(int)"
   ]
  },
  {
   "cell_type": "markdown",
   "metadata": {},
   "source": [
    "That's perfect, take int of log2 of the disk size and get meaningful categories. NaNs and 0 have kept their category"
   ]
  },
  {
   "cell_type": "markdown",
   "metadata": {},
   "source": [
    "### Census_SystemVolumeTotalCapacity"
   ]
  },
  {
   "cell_type": "code",
   "execution_count": 4,
   "metadata": {
    "scrolled": true
   },
   "outputs": [
    {
     "data": {
      "text/plain": [
       "0    299451.0\n",
       "1    102385.0\n",
       "2    113907.0\n",
       "3    227116.0\n",
       "4    101900.0\n",
       "Name: Census_SystemVolumeTotalCapacity, dtype: float64"
      ]
     },
     "execution_count": 4,
     "metadata": {},
     "output_type": "execute_result"
    }
   ],
   "source": [
    "ser = df_tr['Census_SystemVolumeTotalCapacity'].copy()\n",
    "ser.head()"
   ]
  },
  {
   "cell_type": "code",
   "execution_count": 5,
   "metadata": {},
   "outputs": [
    {
     "data": {
      "text/plain": [
       "<matplotlib.axes._subplots.AxesSubplot at 0x7fc75af6f630>"
      ]
     },
     "execution_count": 5,
     "metadata": {},
     "output_type": "execute_result"
    },
    {
     "data": {
      "image/png": "[encoded data removed]",
      "text/plain": [
       "<Figure size 432x288 with 1 Axes>"
      ]
     },
     "metadata": {
      "needs_background": "light"
     },
     "output_type": "display_data"
    }
   ],
   "source": [
    "logser = np.log2(ser + 1.5).astype(int)\n",
    "logser.plot.hist()"
   ]
  },
  {
   "cell_type": "markdown",
   "metadata": {},
   "source": [
    "Good, same as before. Log2, to int, get meaningful categories"
   ]
  },
  {
   "cell_type": "markdown",
   "metadata": {},
   "source": [
    "### Census_TotalPhysicalRAM :"
   ]
  },
  {
   "cell_type": "code",
   "execution_count": 7,
   "metadata": {},
   "outputs": [
    {
     "data": {
      "text/plain": [
       "<matplotlib.axes._subplots.AxesSubplot at 0x7fc75e33bdd8>"
      ]
     },
     "execution_count": 7,
     "metadata": {},
     "output_type": "execute_result"
    },
    {
     "data": {
      "image/png": "[encoded data removed]",
      "text/plain": [
       "<Figure size 432x288 with 1 Axes>"
      ]
     },
     "metadata": {
      "needs_background": "light"
     },
     "output_type": "display_data"
    }
   ],
   "source": [
    "ser = df_tr['Census_TotalPhysicalRAM'].copy()\n",
    "logser = np.log2(ser + 1.5).astype(int)\n",
    "logser.plot.hist()"
   ]
  },
  {
   "cell_type": "markdown",
   "metadata": {},
   "source": [
    "Same, int(log2(feat)) = meaningful cats"
   ]
  },
  {
   "cell_type": "markdown",
   "metadata": {},
   "source": [
    "### Census_InternalBatteryNumberOfCharges"
   ]
  },
  {
   "cell_type": "code",
   "execution_count": 8,
   "metadata": {},
   "outputs": [
    {
     "data": {
      "text/plain": [
       "<matplotlib.axes._subplots.AxesSubplot at 0x7fc7662de080>"
      ]
     },
     "execution_count": 8,
     "metadata": {},
     "output_type": "execute_result"
    },
    {
     "data": {
      "image/png": "[encoded data removed]",
      "text/plain": [
       "<Figure size 432x288 with 1 Axes>"
      ]
     },
     "metadata": {
      "needs_background": "light"
     },
     "output_type": "display_data"
    }
   ],
   "source": [
    "df_tr['Census_InternalBatteryNumberOfCharges'].plot.hist()"
   ]
  },
  {
   "cell_type": "code",
   "execution_count": 9,
   "metadata": {},
   "outputs": [],
   "source": [
    "ser = df_tr['Census_InternalBatteryNumberOfCharges'].copy()\n"
   ]
  },
  {
   "cell_type": "code",
   "execution_count": 17,
   "metadata": {},
   "outputs": [
    {
     "data": {
      "text/plain": [
       "<matplotlib.axes._subplots.AxesSubplot at 0x7fc766724d30>"
      ]
     },
     "execution_count": 17,
     "metadata": {},
     "output_type": "execute_result"
    },
    {
     "data": {
      "image/png": "[encoded data removed]",
      "text/plain": [
       "<Figure size 432x288 with 1 Axes>"
      ]
     },
     "metadata": {
      "needs_background": "light"
     },
     "output_type": "display_data"
    }
   ],
   "source": [
    "logser = np.log2(ser + 1.5).astype(int)\n",
    "logser.plot.hist()"
   ]
  },
  {
   "cell_type": "markdown",
   "metadata": {},
   "source": [
    "### Census_FirmwareVersionIdentifier :"
   ]
  },
  {
   "cell_type": "code",
   "execution_count": 20,
   "metadata": {},
   "outputs": [
    {
     "data": {
      "text/plain": [
       "<matplotlib.axes._subplots.AxesSubplot at 0x7fc75eb4bcf8>"
      ]
     },
     "execution_count": 20,
     "metadata": {},
     "output_type": "execute_result"
    },
    {
     "data": {
      "image/png": "[encoded data removed]",
      "text/plain": [
       "<Figure size 432x288 with 1 Axes>"
      ]
     },
     "metadata": {
      "needs_background": "light"
     },
     "output_type": "display_data"
    }
   ],
   "source": [
    "df_tr['Census_FirmwareVersionIdentifier'].plot.hist()"
   ]
  },
  {
   "cell_type": "code",
   "execution_count": 27,
   "metadata": {},
   "outputs": [
    {
     "data": {
      "text/plain": [
       "0    36144.0\n",
       "1    57858.0\n",
       "2    52682.0\n",
       "3    20050.0\n",
       "4    19844.0\n",
       "Name: Census_FirmwareVersionIdentifier, dtype: float64"
      ]
     },
     "execution_count": 27,
     "metadata": {},
     "output_type": "execute_result"
    }
   ],
   "source": [
    "df_tr['Census_FirmwareVersionIdentifier'].head()"
   ]
  },
  {
   "cell_type": "code",
   "execution_count": 24,
   "metadata": {},
   "outputs": [],
   "source": [
    "df_te = pd.read_csv('test.csv',usecols = ['Census_FirmwareVersionIdentifier'])"
   ]
  },
  {
   "cell_type": "code",
   "execution_count": 25,
   "metadata": {},
   "outputs": [
    {
     "data": {
      "text/plain": [
       "(0.4168445985942023, 0.45183403616310336)"
      ]
     },
     "execution_count": 25,
     "metadata": {},
     "output_type": "execute_result"
    }
   ],
   "source": [
    "feat = 'Census_FirmwareVersionIdentifier'\n",
    "tr, d = enc_col(df_tr[feat])\n",
    "te, _ = enc_col(df_te[feat],d)\n",
    "(tr == 0).sum()/8921483, (te == 0).sum()/7853253"
   ]
  },
  {
   "cell_type": "markdown",
   "metadata": {},
   "source": [
    "Not good"
   ]
  },
  {
   "cell_type": "code",
   "execution_count": 26,
   "metadata": {},
   "outputs": [
    {
     "data": {
      "text/plain": [
       "(0.06986394526560215, 0.10090315439983914)"
      ]
     },
     "execution_count": 26,
     "metadata": {},
     "output_type": "execute_result"
    }
   ],
   "source": [
    "tr, d = enc_col_nosizelimit(df_tr[feat])\n",
    "te, _ = enc_col_nosizelimit(df_te[feat],d)\n",
    "(tr == 0).sum()/8921483, (te == 0).sum()/7853253"
   ]
  },
  {
   "cell_type": "markdown",
   "metadata": {},
   "source": [
    "Better, not very good as the train and test set dont have the same distribution of unknown. <br>\n",
    "That was it for high cardinality feats."
   ]
  },
  {
   "cell_type": "code",
   "execution_count": 34,
   "metadata": {},
   "outputs": [
    {
     "data": {
      "text/plain": [
       "Index(['MachineIdentifier', 'ProductName', 'EngineVersion', 'AppVersion',\n",
       "       'AvSigVersion', 'IsBeta', 'RtpStateBitfield', 'IsSxsPassiveMode',\n",
       "       'DefaultBrowsersIdentifier', 'AVProductStatesIdentifier',\n",
       "       'AVProductsInstalled', 'AVProductsEnabled', 'HasTpm',\n",
       "       'CountryIdentifier', 'CityIdentifier', 'OrganizationIdentifier',\n",
       "       'GeoNameIdentifier', 'LocaleEnglishNameIdentifier', 'Platform',\n",
       "       'Processor', 'OsVer', 'OsBuild', 'OsSuite', 'OsPlatformSubRelease',\n",
       "       'OsBuildLab', 'SkuEdition', 'IsProtected', 'AutoSampleOptIn', 'PuaMode',\n",
       "       'SMode', 'IeVerIdentifier', 'SmartScreen', 'Firewall', 'UacLuaenable',\n",
       "       'Census_MDC2FormFactor', 'Census_DeviceFamily',\n",
       "       'Census_OEMNameIdentifier', 'Census_OEMModelIdentifier',\n",
       "       'Census_ProcessorCoreCount', 'Census_ProcessorManufacturerIdentifier',\n",
       "       'Census_ProcessorModelIdentifier', 'Census_ProcessorClass',\n",
       "       'Census_PrimaryDiskTotalCapacity', 'Census_PrimaryDiskTypeName',\n",
       "       'Census_SystemVolumeTotalCapacity', 'Census_HasOpticalDiskDrive',\n",
       "       'Census_TotalPhysicalRAM', 'Census_ChassisTypeName',\n",
       "       'Census_InternalPrimaryDiagonalDisplaySizeInInches',\n",
       "       'Census_InternalPrimaryDisplayResolutionHorizontal',\n",
       "       'Census_InternalPrimaryDisplayResolutionVertical',\n",
       "       'Census_PowerPlatformRoleName', 'Census_InternalBatteryType',\n",
       "       'Census_InternalBatteryNumberOfCharges', 'Census_OSVersion',\n",
       "       'Census_OSArchitecture', 'Census_OSBranch', 'Census_OSBuildNumber',\n",
       "       'Census_OSBuildRevision', 'Census_OSEdition', 'Census_OSSkuName',\n",
       "       'Census_OSInstallTypeName', 'Census_OSInstallLanguageIdentifier',\n",
       "       'Census_OSUILocaleIdentifier', 'Census_OSWUAutoUpdateOptionsName',\n",
       "       'Census_IsPortableOperatingSystem', 'Census_GenuineStateName',\n",
       "       'Census_ActivationChannel', 'Census_IsFlightingInternal',\n",
       "       'Census_IsFlightsDisabled', 'Census_FlightRing',\n",
       "       'Census_ThresholdOptIn', 'Census_FirmwareManufacturerIdentifier',\n",
       "       'Census_FirmwareVersionIdentifier', 'Census_IsSecureBootEnabled',\n",
       "       'Census_IsWIMBootEnabled', 'Census_IsVirtualDevice',\n",
       "       'Census_IsTouchEnabled', 'Census_IsPenCapable',\n",
       "       'Census_IsAlwaysOnAlwaysConnectedCapable', 'Wdft_IsGamer',\n",
       "       'Wdft_RegionIdentifier', 'HasDetections'],\n",
       "      dtype='object')"
      ]
     },
     "execution_count": 34,
     "metadata": {},
     "output_type": "execute_result"
    }
   ],
   "source": [
    "df_tr.columns"
   ]
  },
  {
   "cell_type": "markdown",
   "metadata": {},
   "source": [
    "Still a few columns with \"Version\" or something, need to check if special encoding is needed"
   ]
  },
  {
   "cell_type": "code",
   "execution_count": 35,
   "metadata": {},
   "outputs": [
    {
     "data": {
      "text/html": [
       "<div>\n",
       "<style scoped>\n",
       "    .dataframe tbody tr th:only-of-type {\n",
       "        vertical-align: middle;\n",
       "    }\n",
       "\n",
       "    .dataframe tbody tr th {\n",
       "        vertical-align: top;\n",
       "    }\n",
       "\n",
       "    .dataframe thead th {\n",
       "        text-align: right;\n",
       "    }\n",
       "</style>\n",
       "<table border=\"1\" class=\"dataframe\">\n",
       "  <thead>\n",
       "    <tr style=\"text-align: right;\">\n",
       "      <th></th>\n",
       "      <th>EngineVersion</th>\n",
       "      <th>AppVersion</th>\n",
       "      <th>AvSigVersion</th>\n",
       "      <th>OsVer</th>\n",
       "      <th>IeVerIdentifier</th>\n",
       "      <th>Census_InternalPrimaryDisplayResolutionVertical</th>\n",
       "      <th>Census_OSVersion</th>\n",
       "      <th>Census_FirmwareVersionIdentifier</th>\n",
       "    </tr>\n",
       "  </thead>\n",
       "  <tbody>\n",
       "    <tr>\n",
       "      <th>0</th>\n",
       "      <td>1.1.15100.1</td>\n",
       "      <td>4.18.1807.18075</td>\n",
       "      <td>1.273.1735.0</td>\n",
       "      <td>10.0.0.0</td>\n",
       "      <td>137.0</td>\n",
       "      <td>900.0</td>\n",
       "      <td>10.0.17134.165</td>\n",
       "      <td>36144.0</td>\n",
       "    </tr>\n",
       "    <tr>\n",
       "      <th>1</th>\n",
       "      <td>1.1.14600.4</td>\n",
       "      <td>4.13.17134.1</td>\n",
       "      <td>1.263.48.0</td>\n",
       "      <td>10.0.0.0</td>\n",
       "      <td>137.0</td>\n",
       "      <td>768.0</td>\n",
       "      <td>10.0.17134.1</td>\n",
       "      <td>57858.0</td>\n",
       "    </tr>\n",
       "    <tr>\n",
       "      <th>2</th>\n",
       "      <td>1.1.15100.1</td>\n",
       "      <td>4.18.1807.18075</td>\n",
       "      <td>1.273.1341.0</td>\n",
       "      <td>10.0.0.0</td>\n",
       "      <td>137.0</td>\n",
       "      <td>1080.0</td>\n",
       "      <td>10.0.17134.165</td>\n",
       "      <td>52682.0</td>\n",
       "    </tr>\n",
       "    <tr>\n",
       "      <th>3</th>\n",
       "      <td>1.1.15100.1</td>\n",
       "      <td>4.18.1807.18075</td>\n",
       "      <td>1.273.1527.0</td>\n",
       "      <td>10.0.0.0</td>\n",
       "      <td>137.0</td>\n",
       "      <td>768.0</td>\n",
       "      <td>10.0.17134.228</td>\n",
       "      <td>20050.0</td>\n",
       "    </tr>\n",
       "    <tr>\n",
       "      <th>4</th>\n",
       "      <td>1.1.15100.1</td>\n",
       "      <td>4.18.1807.18075</td>\n",
       "      <td>1.273.1379.0</td>\n",
       "      <td>10.0.0.0</td>\n",
       "      <td>137.0</td>\n",
       "      <td>768.0</td>\n",
       "      <td>10.0.17134.191</td>\n",
       "      <td>19844.0</td>\n",
       "    </tr>\n",
       "  </tbody>\n",
       "</table>\n",
       "</div>"
      ],
      "text/plain": [
       "  EngineVersion       AppVersion  AvSigVersion     OsVer  IeVerIdentifier  \\\n",
       "0   1.1.15100.1  4.18.1807.18075  1.273.1735.0  10.0.0.0            137.0   \n",
       "1   1.1.14600.4     4.13.17134.1    1.263.48.0  10.0.0.0            137.0   \n",
       "2   1.1.15100.1  4.18.1807.18075  1.273.1341.0  10.0.0.0            137.0   \n",
       "3   1.1.15100.1  4.18.1807.18075  1.273.1527.0  10.0.0.0            137.0   \n",
       "4   1.1.15100.1  4.18.1807.18075  1.273.1379.0  10.0.0.0            137.0   \n",
       "\n",
       "   Census_InternalPrimaryDisplayResolutionVertical Census_OSVersion  \\\n",
       "0                                            900.0   10.0.17134.165   \n",
       "1                                            768.0     10.0.17134.1   \n",
       "2                                           1080.0   10.0.17134.165   \n",
       "3                                            768.0   10.0.17134.228   \n",
       "4                                            768.0   10.0.17134.191   \n",
       "\n",
       "   Census_FirmwareVersionIdentifier  \n",
       "0                           36144.0  \n",
       "1                           57858.0  \n",
       "2                           52682.0  \n",
       "3                           20050.0  \n",
       "4                           19844.0  "
      ]
     },
     "execution_count": 35,
     "metadata": {},
     "output_type": "execute_result"
    }
   ],
   "source": [
    "df_tr[[o for o in df_tr.columns if \"Ver\" in o]].head()"
   ]
  },
  {
   "cell_type": "markdown",
   "metadata": {},
   "source": [
    "Probably than some of them need to be cut and encoded as avsigversion"
   ]
  },
  {
   "cell_type": "code",
   "execution_count": null,
   "metadata": {},
   "outputs": [],
   "source": []
  }
 ],
 "metadata": {
  "kernelspec": {
   "display_name": "Python 3",
   "language": "python",
   "name": "python3"
  },
  "language_info": {
   "codemirror_mode": {
    "name": "ipython",
    "version": 3
   },
   "file_extension": ".py",
   "mimetype": "text/x-python",
   "name": "python",
   "nbconvert_exporter": "python",
   "pygments_lexer": "ipython3",
   "version": "3.7.1"
  }
 },
 "nbformat": 4,
 "nbformat_minor": 2
}
