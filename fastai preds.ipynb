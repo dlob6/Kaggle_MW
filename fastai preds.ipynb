{
 "cells": [
  {
   "cell_type": "code",
   "execution_count": 1,
   "metadata": {},
   "outputs": [],
   "source": [
    "import fastai\n",
    "from fastai.tabular import *\n",
    "import pandas as pd\n",
    "from sklearn.metrics import roc_auc_score as roc"
   ]
  },
  {
   "cell_type": "code",
   "execution_count": 2,
   "metadata": {},
   "outputs": [],
   "source": [
    "dtypes = {'ProductName': 'category',\n",
    " 'IsBeta': 'category',\n",
    " 'RtpStateBitfield': 'category',\n",
    " 'IsSxsPassiveMode': 'category',\n",
    " 'DefaultBrowsersIdentifier': 'category',\n",
    " 'AVProductStatesIdentifier': 'category',\n",
    " 'AVProductsInstalled': 'category',\n",
    " 'AVProductsEnabled': 'category',\n",
    " 'HasTpm': 'category',\n",
    " 'CountryIdentifier': 'category',\n",
    " 'CityIdentifier': 'category',\n",
    " 'OrganizationIdentifier': 'category',\n",
    " 'GeoNameIdentifier': 'category',\n",
    " 'LocaleEnglishNameIdentifier': 'category',\n",
    " 'Platform': 'category',\n",
    " 'Processor': 'category',\n",
    " 'OsBuild': 'category',\n",
    " 'OsSuite': 'category',\n",
    " 'OsPlatformSubRelease': 'category',\n",
    " 'OsBuildLab': 'category',\n",
    " 'SkuEdition': 'category',\n",
    " 'IsProtected': 'category',\n",
    " 'AutoSampleOptIn': 'category',\n",
    " 'PuaMode': 'category',\n",
    " 'SMode': 'category',\n",
    " 'IeVerIdentifier': 'category',\n",
    " 'SmartScreen': 'category',\n",
    " 'Firewall': 'category',\n",
    " 'UacLuaenable': 'category',\n",
    " 'Census_MDC2FormFactor': 'category',\n",
    " 'Census_DeviceFamily': 'category',\n",
    " 'Census_OEMNameIdentifier': 'category',\n",
    " 'Census_OEMModelIdentifier': 'category',\n",
    " 'Census_ProcessorCoreCount': 'category',\n",
    " 'Census_ProcessorManufacturerIdentifier': 'category',\n",
    " 'Census_ProcessorModelIdentifier': 'category',\n",
    " 'Census_ProcessorClass': 'category',\n",
    " 'Census_PrimaryDiskTotalCapacity': 'category',\n",
    " 'Census_PrimaryDiskTypeName': 'category',\n",
    " 'Census_SystemVolumeTotalCapacity': 'category',\n",
    " 'Census_HasOpticalDiskDrive': 'category',\n",
    " 'Census_TotalPhysicalRAM': 'category',\n",
    " 'Census_ChassisTypeName': 'category',\n",
    " 'Census_InternalPrimaryDiagonalDisplaySizeInInches': 'category',\n",
    " 'Census_InternalPrimaryDisplayResolutionHorizontal': 'category',\n",
    " 'Census_InternalPrimaryDisplayResolutionVertical': 'category',\n",
    " 'Census_PowerPlatformRoleName': 'category',\n",
    " 'Census_InternalBatteryType': 'category',\n",
    " 'Census_InternalBatteryNumberOfCharges': 'category',\n",
    " 'Census_OSVersion': 'category',\n",
    " 'Census_OSArchitecture': 'category',\n",
    " 'Census_OSBranch': 'category',\n",
    " 'Census_OSBuildNumber': 'category',\n",
    " 'Census_OSBuildRevision': 'category',\n",
    " 'Census_OSEdition': 'category',\n",
    " 'Census_OSSkuName': 'category',\n",
    " 'Census_OSInstallTypeName': 'category',\n",
    " 'Census_OSInstallLanguageIdentifier': 'category',\n",
    " 'Census_OSUILocaleIdentifier': 'category',\n",
    " 'Census_OSWUAutoUpdateOptionsName': 'category',\n",
    " 'Census_IsPortableOperatingSystem': 'category',\n",
    " 'Census_GenuineStateName': 'category',\n",
    " 'Census_ActivationChannel': 'category',\n",
    " 'Census_IsFlightingInternal': 'category',\n",
    " 'Census_IsFlightsDisabled': 'category',\n",
    " 'Census_FlightRing': 'category',\n",
    " 'Census_ThresholdOptIn': 'category',\n",
    " 'Census_FirmwareManufacturerIdentifier': 'category',\n",
    " 'Census_FirmwareVersionIdentifier': 'category',\n",
    " 'Census_IsSecureBootEnabled': 'category',\n",
    " 'Census_IsWIMBootEnabled': 'category',\n",
    " 'Census_IsVirtualDevice': 'category',\n",
    " 'Census_IsTouchEnabled': 'category',\n",
    " 'Census_IsPenCapable': 'category',\n",
    " 'Census_IsAlwaysOnAlwaysConnectedCapable': 'category',\n",
    " 'Wdft_IsGamer': 'category',\n",
    " 'Wdft_RegionIdentifier': 'category',\n",
    " 'Year': 'category',\n",
    " 'Month': 'category',\n",
    " 'Week': 'category',\n",
    " 'Day': 'category',\n",
    " 'Dayofweek': 'category',\n",
    " 'Dayofyear': 'category',\n",
    " 'Is_month_end': 'category',\n",
    " 'Is_month_start': 'category',\n",
    " 'Is_quarter_end': 'category',\n",
    " 'Is_quarter_start': 'category',\n",
    " 'Is_year_end': 'category',\n",
    " 'Is_year_start': 'category',\n",
    " 'AppVersion.cat': 'category',\n",
    " 'OsVer.cat.0': 'category',\n",
    " 'OsVer.cat.1': 'category',\n",
    " 'OsVer.cat.2': 'category',\n",
    " 'OsVer.cat.3': 'category',\n",
    " 'EngineVersion' : 'category',\n",
    " 'AppVersion': 'category',\n",
    " 'AvSigVersion': 'category',\n",
    "         }"
   ]
  },
  {
   "cell_type": "markdown",
   "metadata": {},
   "source": [
    "# Training\n",
    "\n",
    "### Few steps of data prep"
   ]
  },
  {
   "cell_type": "code",
   "execution_count": 3,
   "metadata": {},
   "outputs": [],
   "source": [
    "# if you have run encoding_v2.ipynb\n",
    "df_tr = pd.read_csv('tr_enc_big.csv',dtype = dtypes)\n",
    "\n",
    "# if you have run encoding.ipynb\n",
    "#df_tr = pd.read_csv('tr_enc.csv',dtype = dtypes)"
   ]
  },
  {
   "cell_type": "code",
   "execution_count": 4,
   "metadata": {
    "scrolled": true
   },
   "outputs": [
    {
     "data": {
      "text/plain": [
       "{'Elapsed': 'float64',\n",
       " 'AvSigVersion.norm.0': 'float64',\n",
       " 'AvSigVersion.norm.1': 'float64',\n",
       " 'Census_FirmwareVersionIdentifier.norm': 'float64',\n",
       " 'EngineVersion.norm.0': 'float64',\n",
       " 'EngineVersion.norm.1': 'float64',\n",
       " 'AppVersion.norm.0': 'float64',\n",
       " 'AppVersion.norm.1': 'float64',\n",
       " 'val': 'int64'}"
      ]
     },
     "execution_count": 4,
     "metadata": {},
     "output_type": "execute_result"
    }
   ],
   "source": [
    "# storing non-categorical variables \n",
    "dtp = df_tr.dtypes.apply(lambda x: x.name).to_dict()\n",
    "dtp = {k : v for k,v in dtp.items() if (v != 'category') & (k != 'HasDetections') & (k != 'valid_idx')}\n",
    "dtp"
   ]
  },
  {
   "cell_type": "code",
   "execution_count": 5,
   "metadata": {},
   "outputs": [],
   "source": [
    "# Float32 needed for nn\n",
    "for c in dtp.keys() :\n",
    "    df_tr[c] = df_tr[c].astype('float32')\n",
    "\n",
    "# Validation indices computed in Encoding_v2.ipynb\n",
    "df_tr['valid_idx'] = df_tr['valid_idx'].astype(int)"
   ]
  },
  {
   "cell_type": "code",
   "execution_count": 28,
   "metadata": {},
   "outputs": [
    {
     "name": "stdout",
     "output_type": "stream",
     "text": [
      "Proportion of data used for validation: 44.77%\n"
     ]
    }
   ],
   "source": [
    "# sample small df for parameter tuning\n",
    "trs = 200000\n",
    "n = 0\n",
    "sdf = df_tr.iloc[n*trs:(n+1)*trs,:]\n",
    "# sdf = df_tr.sample(trs)\n",
    "sdf = sdf.reset_index(drop=True)\n",
    "\n",
    "# Getting indices of the rows used as validation test.\n",
    "# These are rows with a recent AV signature, which\n",
    "# looks like the test set. It's been added in Encoding_V2\n",
    "valid_idx = sdf[sdf['valid_idx'] == 1].index.tolist()\n",
    "sdf.drop(columns = ['valid_idx'],inplace=True)\n",
    "\n",
    "print(f\"Proportion of data used for validation: {round(100*len(valid_idx)/trs,2)}%\")"
   ]
  },
  {
   "cell_type": "code",
   "execution_count": 29,
   "metadata": {
    "scrolled": true
   },
   "outputs": [],
   "source": [
    "dep_var = 'HasDetections'\n",
    "cat_cols = [c for c in sdf if (c != dep_var) & (c not in dtp.keys())]"
   ]
  },
  {
   "cell_type": "code",
   "execution_count": 47,
   "metadata": {},
   "outputs": [],
   "source": [
    "# Storing the data in torch tensors & stuff\n",
    "\n",
    "data = (TabularList.from_df(sdf, cat_names=cat_cols) \n",
    "                           .split_by_idx(list(valid_idx)) # splitting train/val\n",
    "                           .label_from_df(cols=dep_var) # y = 'HasDetection'\n",
    "                           #.add_test(test) # No test set, we don't want to predict yet\n",
    "                           .databunch()) # data ready for fastai models\n"
   ]
  },
  {
   "cell_type": "markdown",
   "metadata": {},
   "source": [
    "## Defining the model\n",
    "\n",
    "### Model architecture:\n",
    "Each categorical variable goes into a separate [Embedding matrix](https://www.fast.ai/2018/04/29/categorical-embeddings/). tl;dr categories (ints) are mapped into a real valued vectors (0-mean 1-std) using some lookup in \"embedding matrices\" that are learnt during training, so that categories can be used by nns without doing one-hot-encoding and adding 1000 billion columns to the dataset. <br>\n",
    "These vectors (one vector per categorical variable, each vector possibly of different length depending on the cardinality of the variable) are then concatenated together, and concatenated with the real valued variables, 'AvSigVersion.norm.0': 'float64' etc. <br>\n",
    "This part is done automatically by fastai's library, by properly labelling categorical variables and passing the list to the \"DataBunch\" created in the above cell. You can consider that given, no need to tune much except the encoding of variables, to manage their cardinality and the size of the embedding matrices created on the fly (number of rows = cardinality of the feature, number of columns ~= max(200,cardinality/2) or similar heuristic) <br>\n",
    "<br>\n",
    "Using the encoding from Encoder.ipynb, the concatenation of these vectors gives a vector of size ~1k5 or something. Using Encoder_V2.ipynb it gives a vector of size ~2k5 or something, because cat variables have a higher cardinality. Consider this as the input of the neural net, and keep in mind the size of the input when experimenting with architectures. The output of the neural network is a single number, the probabiltiy that a machine is going to be infected by a malware<br>\n",
    "Now that the input of the neural network is defined, things you can tune without too much pytorch programming: <br>\n",
    "<ul>\n",
    "    <li> The number of layers of the neural network. </li>\n",
    "    <li> The number of neurons per layer. </li>\n",
    "    <li> Regularization (dropout, weight decay) </li>\n",
    "    <li> Batch size </li>\n",
    "    <li> Learning rate of the training, number of epochs, batch size </li>\n",
    "<ul>"
   ]
  },
  {
   "cell_type": "code",
   "execution_count": 48,
   "metadata": {},
   "outputs": [],
   "source": [
    "\"\"\"\n",
    "Code sample for 3 layer neural network with minimal tuning.\n",
    "\n",
    "First layer (connected to the length 1k5 or 2k6 input) has size 500, second layer 300, last layer 100.\n",
    "The output of the last layer is used to compute the probabiltiy of malware infection.\n",
    "\n",
    "Some dropout is added. Probability(dropout) of the 1st layer is 0.05, second layer 0.05, third layer 0.1.\n",
    "That represents the probabiltiy that, during training, neurons's output are randomly put to 0.\n",
    "It prevents the nn from memorizing stuff from the training set. It has to find pattern instead of memorizing.\n",
    "\"\"\"\n",
    "\n",
    "layers = [500, 300, 100]\n",
    "ps = [0.05, 0.05, 0.1]\n",
    "learn = tabular_learner(data, layers=layers, ps = ps)"
   ]
  },
  {
   "cell_type": "code",
   "execution_count": 49,
   "metadata": {},
   "outputs": [
    {
     "name": "stdout",
     "output_type": "stream",
     "text": [
      "LR Finder is complete, type {learner_name}.recorder.plot() to see the graph.\n"
     ]
    },
    {
     "data": {
      "image/png": "[encoded data removed]",
      "text/plain": [
       "<Figure size 432x288 with 1 Axes>"
      ]
     },
     "metadata": {
      "needs_background": "light"
     },
     "output_type": "display_data"
    }
   ],
   "source": [
    "\"\"\"\n",
    "Searching for a learning rate.\n",
    "The plot shows the loss against the learning rate (growing exponentially)\n",
    "\"\"\"\n",
    "learn.lr_find()\n",
    "learn.recorder.plot()"
   ]
  },
  {
   "cell_type": "markdown",
   "metadata": {},
   "source": [
    "Pick a learning rate ~10⁻1 before the loss grows up, works well generally"
   ]
  },
  {
   "cell_type": "code",
   "execution_count": 50,
   "metadata": {},
   "outputs": [
    {
     "data": {
      "text/html": [
       "Total time: 00:33 <p><table style='width:300px; margin-bottom:10px'>\n",
       "  <tr>\n",
       "    <th>epoch</th>\n",
       "    <th>train_loss</th>\n",
       "    <th>valid_loss</th>\n",
       "  </tr>\n",
       "  <tr>\n",
       "    <th>1</th>\n",
       "    <th>0.616088</th>\n",
       "    <th>0.646929</th>\n",
       "  </tr>\n",
       "</table>\n"
      ],
      "text/plain": [
       "<IPython.core.display.HTML object>"
      ]
     },
     "metadata": {},
     "output_type": "display_data"
    }
   ],
   "source": [
    "# Train\n",
    "\n",
    "lr = 1e-2\n",
    "num_epochs = 1\n",
    "learn.fit_one_cycle(num_epochs, lr)\n"
   ]
  },
  {
   "cell_type": "code",
   "execution_count": 51,
   "metadata": {},
   "outputs": [
    {
     "data": {
      "text/plain": [
       "0.6708438364389848"
      ]
     },
     "execution_count": 51,
     "metadata": {},
     "output_type": "execute_result"
    }
   ],
   "source": [
    "# roc score on validation set (data not seen during training)\n",
    "\n",
    "ytrue = sdf['HasDetections'].iloc[valid_idx] \n",
    "ypred = learn.get_preds(DatasetType.Valid)\n",
    "\"\"\"\n",
    "ypred is a list of 2 tensors:\n",
    "The first tensor is, for each sample of the val set,\n",
    "a tuple (Prob(malware ==0), Prob(malware == 1)).\n",
    "To submit stuff to kaggle, you need to submit Prob(malware == 1)\n",
    "The second tensor is the predicted class (1 = malware, 0 = no malware)\n",
    "for all examples of the validation set.\n",
    "\"\"\"\n",
    "ypred = ypred[0].numpy()[:,1] # first tensor to numpy, element 1 of tuples\n",
    "roc(ytrue,ypred) # roc score - kaggle metric"
   ]
  },
  {
   "cell_type": "markdown",
   "metadata": {},
   "source": [
    "Now your nn \"learn\" is still in the same state. <br>\n",
    "You can either save the weights & stuff for later: <br> <br>\n",
    "learn.save('learn_pth') <br>\n",
    "learn.export(\"learn.pkl\") <br>\n",
    "And load later: <br>\n",
    "learn = load_learner(path = '.', fname = 'learn.pkl') <br>\n",
    "learn = learn.load('learn_pth') <br>\n",
    "learn.data = data # whatever DataBunch you create <br>\n",
    "And then continue training or make predictions <br><br>\n",
    "Or continue training and see if stuff improve:"
   ]
  },
  {
   "cell_type": "code",
   "execution_count": 52,
   "metadata": {},
   "outputs": [
    {
     "name": "stdout",
     "output_type": "stream",
     "text": [
      "LR Finder is complete, type {learner_name}.recorder.plot() to see the graph.\n"
     ]
    },
    {
     "data": {
      "image/png": "[encoded data removed]",
      "text/plain": [
       "<Figure size 432x288 with 1 Axes>"
      ]
     },
     "metadata": {
      "needs_background": "light"
     },
     "output_type": "display_data"
    }
   ],
   "source": [
    "# Continue training a bit, find a good lr\n",
    "learn.lr_find()\n",
    "learn.recorder.plot()"
   ]
  },
  {
   "cell_type": "code",
   "execution_count": 53,
   "metadata": {},
   "outputs": [
    {
     "data": {
      "text/html": [
       "Total time: 00:33 <p><table style='width:300px; margin-bottom:10px'>\n",
       "  <tr>\n",
       "    <th>epoch</th>\n",
       "    <th>train_loss</th>\n",
       "    <th>valid_loss</th>\n",
       "  </tr>\n",
       "  <tr>\n",
       "    <th>1</th>\n",
       "    <th>0.575952</th>\n",
       "    <th>0.658876</th>\n",
       "  </tr>\n",
       "</table>\n"
      ],
      "text/plain": [
       "<IPython.core.display.HTML object>"
      ]
     },
     "metadata": {},
     "output_type": "display_data"
    }
   ],
   "source": [
    "learn.fit_one_cycle(1, 1e-3)"
   ]
  },
  {
   "cell_type": "code",
   "execution_count": 55,
   "metadata": {},
   "outputs": [],
   "source": [
    "# val loss is worse than after 1st epoch, train loss is better, overfitting happened"
   ]
  },
  {
   "cell_type": "code",
   "execution_count": 56,
   "metadata": {},
   "outputs": [
    {
     "data": {
      "text/plain": [
       "0.6599420505235827"
      ]
     },
     "execution_count": 56,
     "metadata": {},
     "output_type": "execute_result"
    }
   ],
   "source": [
    "ypred = learn.get_preds(DatasetType.Valid)\n",
    "ypred = ypred[0].numpy()[:,1]\n",
    "roc(ytrue,ypred)\n",
    "# roc score is also worse than after 1st epoch"
   ]
  },
  {
   "cell_type": "code",
   "execution_count": null,
   "metadata": {},
   "outputs": [],
   "source": [
    "# Save model for later reuse\n",
    "#learn.save('learn_pth') #i think its needed for resuming training but not sure\n",
    "#learn.export(\"learn.pkl\") #needed to make preds"
   ]
  },
  {
   "cell_type": "markdown",
   "metadata": {},
   "source": [
    "# Making preds"
   ]
  },
  {
   "cell_type": "code",
   "execution_count": 31,
   "metadata": {},
   "outputs": [],
   "source": [
    "# Tried using gpu for inference, mem error\n",
    "# Tried CPU with:\n",
    "#defaults.device = torch.device('cuda')\n",
    "#learn.model.to(\"cud\")\n",
    "# Other type of error\n",
    "# Current solution, predict by batch and concat"
   ]
  },
  {
   "cell_type": "code",
   "execution_count": 6,
   "metadata": {},
   "outputs": [],
   "source": [
    "df_te = pd.read_csv('te_enc_big.csv',dtype = dtypes)"
   ]
  },
  {
   "cell_type": "code",
   "execution_count": 7,
   "metadata": {},
   "outputs": [
    {
     "data": {
      "text/plain": [
       "{'Elapsed': 'float64',\n",
       " 'AvSigVersion.norm.0': 'float64',\n",
       " 'AvSigVersion.norm.1': 'float64',\n",
       " 'Census_FirmwareVersionIdentifier.norm': 'float64',\n",
       " 'EngineVersion.norm.0': 'float64',\n",
       " 'EngineVersion.norm.1': 'float64',\n",
       " 'AppVersion.norm.0': 'float64',\n",
       " 'AppVersion.norm.1': 'float64'}"
      ]
     },
     "execution_count": 7,
     "metadata": {},
     "output_type": "execute_result"
    }
   ],
   "source": [
    "dtp = df_te.dtypes.apply(lambda x: x.name).to_dict()\n",
    "dtp = {k : v for k,v in dtp.items() if (v != 'category') & (k != 'HasDetections')}\n",
    "dtp"
   ]
  },
  {
   "cell_type": "code",
   "execution_count": 8,
   "metadata": {},
   "outputs": [],
   "source": [
    "# float32 needed for nn\n",
    "for c in dtp.keys() :\n",
    "    df_te[c] = df_te[c].astype('float32')\n",
    "    \n",
    "#### required, and required to load the full train set to have all cats\n",
    "#### otherwise identical cats from the test set and train set won't be mapped to\n",
    "#### the same integers, and preds are random\n",
    "df_tr = pd.read_csv('tr_enc_big.csv',dtype = dtypes)\n",
    "for c in df_te.select_dtypes(include='category').columns :\n",
    "    df_te[c] = df_te[c].cat.set_categories(df_tr[c].cat.categories)"
   ]
  },
  {
   "cell_type": "code",
   "execution_count": 9,
   "metadata": {},
   "outputs": [],
   "source": [
    "cat_cols = list(dtypes.keys())\n",
    "df_tr = df_tr.iloc[0:1,:] # we just needed categories to map them to the test set\n"
   ]
  },
  {
   "cell_type": "code",
   "execution_count": 10,
   "metadata": {},
   "outputs": [],
   "source": [
    "te = TabularList.from_df(df_te.iloc[:2000000,:], cat_names=cat_cols) # 1st batch of test set\n",
    "learn = load_learner(path = '.',test = te,fname=\"learn.pkl\") # getting saved nn\n",
    "pre,y = learn.get_preds(ds_type = DatasetType.Test) # preds\n",
    "pre0 = pre.numpy()[:,1] # Pr(malware==1) torch tensor to numpy"
   ]
  },
  {
   "cell_type": "code",
   "execution_count": 11,
   "metadata": {},
   "outputs": [],
   "source": [
    "te = TabularList.from_df(df_te.iloc[2000000:4000000,:], cat_names=cat_cols)\n",
    "learn.data = te # setting new batch of data\n",
    "pre,y = learn.get_preds(ds_type = DatasetType.Test)\n",
    "pre1 = pre.numpy()[:,1]"
   ]
  },
  {
   "cell_type": "code",
   "execution_count": 8,
   "metadata": {},
   "outputs": [],
   "source": [
    "te = TabularList.from_df(df_te.iloc[4000000:6000000,:], cat_names=cat_cols)\n",
    "learn.data = te\n",
    "pre,y = learn.get_preds(ds_type = DatasetType.Test)\n",
    "pre2 = pre.numpy()[:,1]"
   ]
  },
  {
   "cell_type": "code",
   "execution_count": 12,
   "metadata": {},
   "outputs": [],
   "source": [
    "te = TabularList.from_df(df_te.iloc[6000000:,:], cat_names=cat_cols)\n",
    "learn.data = te\n",
    "pre,y = learn.get_preds(ds_type = DatasetType.Test)\n",
    "pre3 = pre.numpy()[:,1]"
   ]
  },
  {
   "cell_type": "code",
   "execution_count": 19,
   "metadata": {},
   "outputs": [],
   "source": [
    "ids = pd.read_csv('test.csv',usecols=['MachineIdentifier'])\n",
    "yp = pd.Series(np.concatenate([pre0, pre1, pre2, pre3], axis = 0))\n",
    "ids = pd.concat([ids,yp],axis=1)\n",
    "ids.columns = ['MachineIdentifier','HasDetections']\n",
    "ids.head()"
   ]
  },
  {
   "cell_type": "code",
   "execution_count": 20,
   "metadata": {},
   "outputs": [],
   "source": [
    "ids.to_csv('submission.csv',index=False)"
   ]
  }
 ],
 "metadata": {
  "kernelspec": {
   "display_name": "Python 3",
   "language": "python",
   "name": "python3"
  },
  "language_info": {
   "codemirror_mode": {
    "name": "ipython",
    "version": 3
   },
   "file_extension": ".py",
   "mimetype": "text/x-python",
   "name": "python",
   "nbconvert_exporter": "python",
   "pygments_lexer": "ipython3",
   "version": "3.7.1"
  }
 },
 "nbformat": 4,
 "nbformat_minor": 2
}
